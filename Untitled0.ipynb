{
  "nbformat": 4,
  "nbformat_minor": 0,
  "metadata": {
    "colab": {
      "provenance": [],
      "authorship_tag": "ABX9TyPGZMtkFHNZI4yr9nwnPGWW",
      "include_colab_link": true
    },
    "kernelspec": {
      "name": "python3",
      "display_name": "Python 3"
    },
    "language_info": {
      "name": "python"
    }
  },
  "cells": [
    {
      "cell_type": "markdown",
      "metadata": {
        "id": "view-in-github",
        "colab_type": "text"
      },
      "source": [
        "<a href=\"https://colab.research.google.com/github/Ankit0272/Ankit0272/blob/main/Untitled0.ipynb\" target=\"_parent\"><img src=\"https://colab.research.google.com/assets/colab-badge.svg\" alt=\"Open In Colab\"/></a>"
      ]
    },
    {
      "cell_type": "code",
      "source": [
        "age= 19\n",
        "g= 9.9\n",
        "name=\"Ankit Raj Singh\"\n",
        "print(type(age))\n",
        "print(type(g))\n",
        "print(type(name))\n",
        "print(10&)"
      ],
      "metadata": {
        "colab": {
          "base_uri": "https://localhost:8080/"
        },
        "id": "ankMALVhySFi",
        "outputId": "b60acd3f-5d7a-4dd1-925a-05914c0faaee"
      },
      "execution_count": null,
      "outputs": [
        {
          "output_type": "stream",
          "name": "stdout",
          "text": [
            "<class 'int'>\n",
            "<class 'float'>\n",
            "<class 'str'>\n",
            "8\n"
          ]
        }
      ]
    },
    {
      "cell_type": "code",
      "source": [
        "number=\"10\"\n",
        "number2= int(number)\n",
        "type(number2)\n",
        "print(number2,type(number))\n",
        "float1= float(number2)\n",
        "type(float1)\n",
        "print(type(number),number,type(float1),float1,type(number2),number2)"
      ],
      "metadata": {
        "colab": {
          "base_uri": "https://localhost:8080/"
        },
        "id": "lWVh1M5t2GAj",
        "outputId": "b7dfe299-c78b-4693-9288-a571c3a2e909"
      },
      "execution_count": null,
      "outputs": [
        {
          "output_type": "stream",
          "name": "stdout",
          "text": [
            "10 <class 'str'>\n",
            "<class 'str'> 10 <class 'float'> 10.0 <class 'int'> 10\n"
          ]
        }
      ]
    },
    {
      "cell_type": "code",
      "source": [
        "name=input(\"your name; \")\n",
        "print(\"welcome\", name)\n",
        "\n",
        "age= input(\"plz enter your age; \")\n",
        "print(type(age))\n",
        "\n",
        "age=int(age)\n",
        "print(type(age))\n"
      ],
      "metadata": {
        "colab": {
          "base_uri": "https://localhost:8080/"
        },
        "id": "kv5HB44W7glc",
        "outputId": "4f28d27a-c10a-444c-9c7d-f82a8111f936"
      },
      "execution_count": null,
      "outputs": [
        {
          "output_type": "stream",
          "name": "stdout",
          "text": [
            "your name; Ankit Raj SIngh\n",
            "welcome Ankit Raj SIngh\n",
            "plz enter your age; 19\n",
            "<class 'str'>\n",
            "<class 'int'>\n"
          ]
        }
      ]
    },
    {
      "cell_type": "code",
      "source": [
        "number1 = float(input(\"enter your first number: \"))\n",
        "number2 = float(input(\"enter your second number: \"))\n",
        "result= number1 * number2\n",
        "print (\"the multiplication of the your two no is\", result, \"see you soon sir\")"
      ],
      "metadata": {
        "colab": {
          "base_uri": "https://localhost:8080/"
        },
        "id": "Xb2__t459zg6",
        "outputId": "57ecfc7c-9967-44cf-8320-ce894ce0b92a"
      },
      "execution_count": null,
      "outputs": [
        {
          "output_type": "stream",
          "name": "stdout",
          "text": [
            "enter your first number: 9.8\n",
            "enter your second number: 9.1\n",
            "the multiplication of the your two no is 89.18 see you soon sir\n"
          ]
        }
      ]
    }
  ]
}