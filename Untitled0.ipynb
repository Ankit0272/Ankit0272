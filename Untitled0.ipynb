{
  "nbformat": 4,
  "nbformat_minor": 0,
  "metadata": {
    "colab": {
      "provenance": [],
      "authorship_tag": "ABX9TyNj6UZ/YSLZU3F1ca8aavBD",
      "include_colab_link": true
    },
    "kernelspec": {
      "name": "python3",
      "display_name": "Python 3"
    },
    "language_info": {
      "name": "python"
    }
  },
  "cells": [
    {
      "cell_type": "markdown",
      "metadata": {
        "id": "view-in-github",
        "colab_type": "text"
      },
      "source": [
        "<a href=\"https://colab.research.google.com/github/Ankit0272/Ankit0272/blob/main/Untitled0.ipynb\" target=\"_parent\"><img src=\"https://colab.research.google.com/assets/colab-badge.svg\" alt=\"Open In Colab\"/></a>"
      ]
    },
    {
      "cell_type": "code",
      "source": [
        "# single item\n",
        "number = 10\n",
        "\n",
        "print(\"number : \", number)\n",
        "\n",
        "\n",
        "# List of integers\n",
        "numbers = [1, 2, 3, 4, 5]\n",
        "\n",
        "print(type(numbers))\n",
        "print(\"numbers : \", numbers)\n",
        "\n",
        "\n",
        "# List of strings\n",
        "fruits = [\"apple\", \"banana\", \"cherry\"]\n",
        "\n",
        "# Mixed data types\n",
        "mixed_list = [1, \"hello\", 3.14, True,1,\"hello\",3.14,False,\"Arul\"]\n",
        "print(\"Length of the list\",len(mixed_list))\n",
        "print(\"Last Index\", len(mixed_list)-1)\n",
        "print(mixed_list[0]) # 1\n",
        "print(mixed_list[1]) # hello\n",
        "print(mixed_list[2]) # 3.14\n",
        "print(mixed_list[3]) # True\n",
        "print(mixed_list[8]) # Arul\n",
        "\n",
        "# access the last index using -1\n",
        "print(\"Count from reverse\")\n",
        "print(mixed_list[-1])\n",
        "print(mixed_list[-2])\n",
        "print(mixed_list[-3])\n",
        "print(mixed_list[-4])\n",
        "print(mixed_list[-5])"
      ],
      "metadata": {
        "colab": {
          "base_uri": "https://localhost:8080/",
          "height": 211
        },
        "id": "N_lEbnO0oOBw",
        "outputId": "bf7f65c3-78d4-4bbb-d8b7-9c0c960e8a96"
      },
      "execution_count": 48,
      "outputs": [
        {
          "output_type": "error",
          "ename": "TypeError",
          "evalue": "'str' object is not callable",
          "traceback": [
            "\u001b[0;31m---------------------------------------------------------------------------\u001b[0m",
            "\u001b[0;31mTypeError\u001b[0m                                 Traceback (most recent call last)",
            "\u001b[0;32m<ipython-input-48-fb135bb025fb>\u001b[0m in \u001b[0;36m<cell line: 0>\u001b[0;34m()\u001b[0m\n\u001b[1;32m      2\u001b[0m \u001b[0mnumber\u001b[0m \u001b[0;34m=\u001b[0m \u001b[0;36m10\u001b[0m\u001b[0;34m\u001b[0m\u001b[0;34m\u001b[0m\u001b[0m\n\u001b[1;32m      3\u001b[0m \u001b[0;34m\u001b[0m\u001b[0m\n\u001b[0;32m----> 4\u001b[0;31m \u001b[0mprint\u001b[0m\u001b[0;34m(\u001b[0m\u001b[0;34m\"number : \"\u001b[0m\u001b[0;34m,\u001b[0m \u001b[0mnumber\u001b[0m\u001b[0;34m)\u001b[0m\u001b[0;34m\u001b[0m\u001b[0;34m\u001b[0m\u001b[0m\n\u001b[0m\u001b[1;32m      5\u001b[0m \u001b[0;34m\u001b[0m\u001b[0m\n\u001b[1;32m      6\u001b[0m \u001b[0;34m\u001b[0m\u001b[0m\n",
            "\u001b[0;31mTypeError\u001b[0m: 'str' object is not callable"
          ]
        }
      ]
    }
  ]
}