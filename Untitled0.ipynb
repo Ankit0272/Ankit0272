{
  "nbformat": 4,
  "nbformat_minor": 0,
  "metadata": {
    "colab": {
      "provenance": [],
      "authorship_tag": "ABX9TyPTE/nHlz2SOB1WGiqgqiCH",
      "include_colab_link": true
    },
    "kernelspec": {
      "name": "python3",
      "display_name": "Python 3"
    },
    "language_info": {
      "name": "python"
    }
  },
  "cells": [
    {
      "cell_type": "markdown",
      "metadata": {
        "id": "view-in-github",
        "colab_type": "text"
      },
      "source": [
        "<a href=\"https://colab.research.google.com/github/Ankit0272/Ankit0272/blob/main/Untitled0.ipynb\" target=\"_parent\"><img src=\"https://colab.research.google.com/assets/colab-badge.svg\" alt=\"Open In Colab\"/></a>"
      ]
    },
    {
      "cell_type": "code",
      "source": [
        "score=int(input(\"what is your score \"))\n",
        "if score >= 80:\n",
        "  print(\"Grade A\")\n",
        "elif score >= 70:\n",
        "  print(\"Graade B\")\n",
        "elif score >= 60:\n",
        "    print(\"Grade C\")\n",
        "elif score >= 50:\n",
        "      print(\"Grade D\")\n",
        "elif score >= 40:\n",
        "          print(\"Grade E\")\n",
        "else:\n",
        "      print(\"Grade F\")\n"
      ],
      "metadata": {
        "colab": {
          "base_uri": "https://localhost:8080/"
        },
        "id": "Tpg_MutJ_EyI",
        "outputId": "56a3506d-32d0-4cfb-eac3-3c0ef1f4c94d"
      },
      "execution_count": 14,
      "outputs": [
        {
          "output_type": "stream",
          "name": "stdout",
          "text": [
            "what is your score 88\n",
            "Grade A\n"
          ]
        }
      ]
    },
    {
      "cell_type": "code",
      "source": [
        "name=input(\"what is your name \")\n",
        "print(\"hello,\",name,\",nice to see you here\")\n",
        "\n",
        "age=int(input(\"what is your age \"))\n",
        "print(\"you are\",age,\"years old\")\n",
        "\n",
        "if age > 17:\n",
        "   print(\"you are an adult\")\n",
        "   print(\"you can vote\")\n",
        "elif age >= 13:\n",
        "   print(\"you are a teenager\")\n",
        "   print(\"go and sleep\")\n",
        "else:\n",
        "   print(\"you are a child\")\n"
      ],
      "metadata": {
        "colab": {
          "base_uri": "https://localhost:8080/"
        },
        "id": "dVIn6bnDHvTx",
        "outputId": "a34a4fbd-0e23-4a7f-b85c-6c22663bf48d"
      },
      "execution_count": 35,
      "outputs": [
        {
          "output_type": "stream",
          "name": "stdout",
          "text": [
            "what is your name ankit raj singh\n",
            "hello, ankit raj singh ,nice to see you here\n",
            "what is your age 19\n",
            "you are 19 years old\n",
            "you are an adult\n",
            "you can vote\n"
          ]
        }
      ]
    },
    {
      "cell_type": "code",
      "source": [
        "age=int(input(\"what is your age \"))\n",
        "print(\"you are\",age,\"years old\")\n",
        "income=int(input(\"what is your income \"))\n",
        "print(\"you make\",income,\"rupees\")\n",
        "if not (age >= 18 and income >= 20000):\n",
        "  print(\"you are eligible for a loan\")\n",
        "else:\n",
        "  print(\"you are not eligible for a loan\")\n",
        "  print(\"you are not eligible for a loan\")\n"
      ],
      "metadata": {
        "colab": {
          "base_uri": "https://localhost:8080/"
        },
        "id": "EpjESKT5I_QS",
        "outputId": "11798b7f-e202-4af6-f87e-bdbebb4e87d4"
      },
      "execution_count": 46,
      "outputs": [
        {
          "output_type": "stream",
          "name": "stdout",
          "text": [
            "what is your age 19\n",
            "you are 19 years old\n",
            "what is your income 10000\n",
            "you make 10000 rupees\n",
            "you are eligible for a loan\n"
          ]
        }
      ]
    },
    {
      "cell_type": "code",
      "source": [
        "number1=int(input(\"enter a number\"))\n",
        "print(\"you entered number 1\")\n",
        "number2=int(input(\"enter a number\"))\n",
        "print(\"you entered number 2\")\n",
        "\n",
        "if number1 < 100 and number2 > 1:\n",
        "  print(\"number 1 is less than 100\")\n",
        "  print(\"number 2 is greater than 1\")\n",
        "  print\n",
        "else:\n",
        "  print(\"number 1 is not less than 100\")\n",
        "  print(\"number 2 is not greater than 1\")\n",
        "\n"
      ],
      "metadata": {
        "collapsed": true,
        "id": "MEvb5BSULUCV"
      },
      "execution_count": null,
      "outputs": []
    }
  ]
}