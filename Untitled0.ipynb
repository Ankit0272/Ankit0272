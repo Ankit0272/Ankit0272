{
  "nbformat": 4,
  "nbformat_minor": 0,
  "metadata": {
    "colab": {
      "provenance": [],
      "authorship_tag": "ABX9TyNhSNNimkykbsr1W82KSLn3",
      "include_colab_link": true
    },
    "kernelspec": {
      "name": "python3",
      "display_name": "Python 3"
    },
    "language_info": {
      "name": "python"
    }
  },
  "cells": [
    {
      "cell_type": "markdown",
      "metadata": {
        "id": "view-in-github",
        "colab_type": "text"
      },
      "source": [
        "<a href=\"https://colab.research.google.com/github/Ankit0272/Ankit0272/blob/main/Untitled0.ipynb\" target=\"_parent\"><img src=\"https://colab.research.google.com/assets/colab-badge.svg\" alt=\"Open In Colab\"/></a>"
      ]
    },
    {
      "cell_type": "code",
      "source": [
        "b= \"sultan\"\n",
        "a=input(\"enter your password here \")\n",
        "while a != b:\n",
        "  print(\"you entred a wrong password \")\n",
        "  a=input(\"enter your password h\")\n",
        "\n",
        "print(\"booyah, you have the access\")"
      ],
      "metadata": {
        "colab": {
          "base_uri": "https://localhost:8080/"
        },
        "id": "hCc6xAtup5El",
        "outputId": "0cd51da4-e1eb-4077-de2e-cdcfd30a72e1"
      },
      "execution_count": null,
      "outputs": [
        {
          "output_type": "stream",
          "name": "stdout",
          "text": [
            "enter your password here dhsahdh\n",
            "you entred a wrong password \n",
            "enter your password dhsahhas]\n",
            "you entred a wrong password \n",
            "enter your password jssdjs\n",
            "you entred a wrong password \n",
            "enter your password hhh\n",
            "you entred a wrong password \n",
            "enter your password hdhf\n",
            "you entred a wrong password \n",
            "enter your password hdfh\n",
            "you entred a wrong password \n",
            "enter your password sultan\n",
            "booyah, you have the access\n"
          ]
        }
      ]
    },
    {
      "cell_type": "code",
      "source": [
        "timer=int(input(\"enter timer\"))\n",
        "while timer >= 0:\n",
        "  print(timer)\n",
        "  timer -=1\n",
        "print(\"timer is over\")"
      ],
      "metadata": {
        "colab": {
          "base_uri": "https://localhost:8080/"
        },
        "id": "kvxGcWG1rcyh",
        "outputId": "1f3ab5bd-edcb-49d9-c127-a29f30719dbb"
      },
      "execution_count": null,
      "outputs": [
        {
          "output_type": "stream",
          "name": "stdout",
          "text": [
            "enter timer3\n",
            "3\n",
            "2\n",
            "1\n",
            "0\n",
            "timer is over\n"
          ]
        }
      ]
    },
    {
      "cell_type": "code",
      "source": [
        "integer= [1,2,2,4,2,6,7,8,4,6,8,4,3,2,4,6,8,7,5]\n",
        "print(type(integer))\n",
        "print(\"numbers \", integer)\n",
        "\n",
        "print(\"length of the integer list\", len(integer))\n",
        "print(integer[5])\n",
        "print(integer[0])\n",
        "print(integer[8])\n",
        "print(integer[1])\n",
        "print(integer[7])\n",
        "print(integer[11])\n",
        "\n",
        "#seeing the isting method to creaate backup listing metod\n",
        "print(integer[-1])\n",
        "print(integer[-9])\n",
        "print(integer[-3])\n",
        "print(integer[0])\n",
        "print(integer[5])\n",
        "\n",
        "#slicing indexing\n",
        "print(integer[0:10])\n",
        "print(integer[9:11])\n",
        "print(integer[:19])\n",
        "print(integer[17:])\n",
        "print(integer[0:])\n",
        "print(integer[1::9])\n",
        "print(integer[1::3])"
      ],
      "metadata": {
        "colab": {
          "base_uri": "https://localhost:8080/"
        },
        "id": "4aIz8lhzsD0a",
        "outputId": "1ef2b261-f504-4aec-ff11-29aa5ce2c878"
      },
      "execution_count": null,
      "outputs": [
        {
          "output_type": "stream",
          "name": "stdout",
          "text": [
            "<class 'list'>\n",
            "numbers  [1, 2, 2, 4, 2, 6, 7, 8, 4, 6, 8, 4, 3, 2, 4, 6, 8, 7, 5]\n",
            "length of the integer list 19\n",
            "6\n",
            "1\n",
            "4\n",
            "2\n",
            "8\n",
            "4\n",
            "5\n",
            "8\n",
            "8\n",
            "1\n",
            "6\n",
            "[1, 2, 2, 4, 2, 6, 7, 8, 4, 6]\n",
            "[6, 8]\n",
            "[1, 2, 2, 4, 2, 6, 7, 8, 4, 6, 8, 4, 3, 2, 4, 6, 8, 7, 5]\n",
            "[7, 5]\n",
            "[1, 2, 2, 4, 2, 6, 7, 8, 4, 6, 8, 4, 3, 2, 4, 6, 8, 7, 5]\n",
            "[2, 8]\n",
            "[2, 2, 8, 8, 2, 8]\n"
          ]
        }
      ]
    },
    {
      "cell_type": "code",
      "source": [
        "integer= [0,1,2,3,4,5,6,7,8,9,10,11,12,13,14,15,16,17,18,19,20]\n",
        "print(len(integer))\n",
        "print(type(integer))\n",
        "print(integer[0])\n",
        "print(integer[20])\n",
        "print(integer[-1])\n",
        "print(integer[3:10])\n",
        "print(integer[7:19])\n",
        "print(integer[::1])\n",
        "print(integer[::2])\n",
        "print(integer[::3])\n",
        "print(integer[::4])\n",
        "print(integer[1::2])"
      ],
      "metadata": {
        "colab": {
          "base_uri": "https://localhost:8080/"
        },
        "id": "wevbH8cq0K-v",
        "outputId": "dcc65c9c-0118-4361-9f77-ebf3a5be1c95"
      },
      "execution_count": null,
      "outputs": [
        {
          "output_type": "stream",
          "name": "stdout",
          "text": [
            "21\n",
            "<class 'list'>\n",
            "0\n",
            "20\n",
            "20\n",
            "[3, 4, 5, 6, 7, 8, 9]\n",
            "[7, 8, 9, 10, 11, 12, 13, 14, 15, 16, 17, 18]\n",
            "[0, 1, 2, 3, 4, 5, 6, 7, 8, 9, 10, 11, 12, 13, 14, 15, 16, 17, 18, 19, 20]\n",
            "[0, 2, 4, 6, 8, 10, 12, 14, 16, 18, 20]\n",
            "[0, 3, 6, 9, 12, 15, 18]\n",
            "[0, 4, 8, 12, 16, 20]\n",
            "[1, 3, 5, 7, 9, 11, 13, 15, 17, 19]\n"
          ]
        }
      ]
    },
    {
      "cell_type": "code",
      "source": [
        "fruit= [\"apple\",\"banana\",\"grapes\"]\n",
        "fruit.insert(1, \"guava\")"
      ],
      "metadata": {
        "id": "KOI1tG3M2RMn"
      },
      "execution_count": null,
      "outputs": []
    },
    {
      "cell_type": "code",
      "source": [
        "fruit= [\"apple\",\"banana\",\"grapes\"]\n",
        "a= fruit.index(\"grapes\")\n",
        "print(a)\n"
      ],
      "metadata": {
        "colab": {
          "base_uri": "https://localhost:8080/"
        },
        "id": "ZKcJKrai6Fxf",
        "outputId": "0089b13a-1d68-41f7-f366-35898183ddf5"
      },
      "execution_count": null,
      "outputs": [
        {
          "output_type": "stream",
          "name": "stdout",
          "text": [
            "2\n"
          ]
        }
      ]
    },
    {
      "cell_type": "code",
      "source": [
        "fruit=[\"apple\",\"banana\",\"grapes\"]\n",
        "copy_list= fruit.copy()\n",
        "print(copy_list)\n",
        "\n",
        "fruit.append(\"guava\")\n",
        "print(fruit)\n",
        "\n",
        "copy_list.append(\"orange\")\n",
        "print(copy_list)\n",
        "\n",
        "fruit.insert(0,\"pineapple\")\n",
        "print(fruit)\n",
        "\n",
        "copy=fruit.copy()\n",
        "print(copy)\n",
        "\n",
        "copy.insert(1,\"kiwi\")\n",
        "print(copy)\n",
        "\n",
        "last_fruit=copy.pop()\n",
        "print(last_fruit)\n",
        "\n",
        "print(copy[0])\n",
        "print(copy[-1])\n",
        "print(copy[-4])\n",
        "print(type(copy))\n",
        "print(len(copy))\n",
        "print(\"apple\" in copy)\n",
        "print(copy[1:4])\n",
        "print(copy[::1])\n",
        "\n",
        "banana=copy.index(\"banana\")\n",
        "print(banana)\n",
        "\n",
        "pear=copy.insert(4,\"pear\")\n",
        "print(copy)\n",
        "\n",
        "remove_pear=copy.remove(\"pear\")\n",
        "print(copy)\n",
        "\n",
        "\n",
        "grapes=copy.index(\"grapes\")\n",
        "print(grapes)\n",
        "\n",
        "count=copy.count(\"kiwi\")\n",
        "print(count)\n",
        "\n",
        "sort=copy.sort()\n",
        "print(sort)\n",
        "\n",
        "reverse=copy.reverse()\n",
        "print(reverse)\n",
        "\n",
        "print(copy)\n",
        "\n",
        "counting=[1,2,3,4,5,6,7,8,9,10]\n",
        "counting.append(11)\n",
        "print(counting)"
      ],
      "metadata": {
        "colab": {
          "base_uri": "https://localhost:8080/"
        },
        "id": "7sukpScR8CD7",
        "outputId": "c2d76bdd-43e8-4ee7-faea-f590f73e295b"
      },
      "execution_count": null,
      "outputs": [
        {
          "output_type": "stream",
          "name": "stdout",
          "text": [
            "['apple', 'banana', 'grapes']\n",
            "['apple', 'banana', 'grapes', 'guava']\n",
            "['apple', 'banana', 'grapes', 'orange']\n",
            "['pineapple', 'apple', 'banana', 'grapes', 'guava']\n",
            "['pineapple', 'apple', 'banana', 'grapes', 'guava']\n",
            "['pineapple', 'kiwi', 'apple', 'banana', 'grapes', 'guava']\n",
            "guava\n",
            "pineapple\n",
            "grapes\n",
            "kiwi\n",
            "<class 'list'>\n",
            "5\n",
            "True\n",
            "['kiwi', 'apple', 'banana']\n",
            "['pineapple', 'kiwi', 'apple', 'banana', 'grapes']\n",
            "3\n",
            "['pineapple', 'kiwi', 'apple', 'banana', 'pear', 'grapes']\n",
            "['pineapple', 'kiwi', 'apple', 'banana', 'grapes']\n",
            "4\n",
            "1\n",
            "None\n",
            "None\n",
            "['pineapple', 'kiwi', 'grapes', 'banana', 'apple']\n",
            "[1, 2, 3, 4, 5, 6, 7, 8, 9, 10, 11]\n"
          ]
        }
      ]
    },
    {
      "cell_type": "code",
      "source": [
        "counting=[0,1,2,3,4,5,6,7,8,9,10]\n",
        "for nos in counting:\n",
        "  print(nos)\n",
        "  if nos == 9:\n",
        "    break\n",
        "print(\"loop is over\")\n"
      ],
      "metadata": {
        "colab": {
          "base_uri": "https://localhost:8080/"
        },
        "id": "_zjKVZmKImc6",
        "outputId": "f2f33f50-a1f0-483c-cc27-65555139fc58"
      },
      "execution_count": null,
      "outputs": [
        {
          "output_type": "stream",
          "name": "stdout",
          "text": [
            "0\n",
            "1\n",
            "2\n",
            "3\n",
            "4\n",
            "5\n",
            "6\n",
            "7\n",
            "8\n",
            "9\n",
            "loop is over\n"
          ]
        }
      ]
    },
    {
      "cell_type": "code",
      "source": [
        "total=0\n",
        "for nos in range(1, 101):\n",
        "  if nos % 2 == 0:\n",
        "    total += nos\n",
        "\n",
        "\n",
        "print(\"sum of all even numbers till\", total)"
      ],
      "metadata": {
        "colab": {
          "base_uri": "https://localhost:8080/"
        },
        "id": "HaN4QKbvKD8I",
        "outputId": "5088ace8-4172-4518-b796-52133be2cfc5"
      },
      "execution_count": null,
      "outputs": [
        {
          "output_type": "stream",
          "name": "stdout",
          "text": [
            "sum of all even numbers till 2550\n"
          ]
        }
      ]
    },
    {
      "cell_type": "code",
      "source": [
        "\n",
        "number=int(input(\"enter your no here \"))\n",
        "\n",
        "print(\"multiplication table for\", number)\n",
        "for i in range (1,11):\n",
        "   print(number, \"x\", i, \"=\", number*i)"
      ],
      "metadata": {
        "colab": {
          "base_uri": "https://localhost:8080/"
        },
        "id": "FlcsLn4uMLxl",
        "outputId": "5a3db4c0-cba7-4967-f7a8-6ce31ca4dde3"
      },
      "execution_count": null,
      "outputs": [
        {
          "output_type": "stream",
          "name": "stdout",
          "text": [
            "enter your no here 78\n",
            "multiplication table for 78\n",
            "78 x 1 = 78\n",
            "78 x 2 = 156\n",
            "78 x 3 = 234\n",
            "78 x 4 = 312\n",
            "78 x 5 = 390\n",
            "78 x 6 = 468\n",
            "78 x 7 = 546\n",
            "78 x 8 = 624\n",
            "78 x 9 = 702\n",
            "78 x 10 = 780\n"
          ]
        }
      ]
    },
    {
      "cell_type": "code",
      "source": [
        "total = 0\n",
        "\n",
        "for number in range(1, 201):\n",
        "    if number % 2 == 0:\n",
        "        total += number\n",
        "\n",
        "print(\"The sum of even numbers between 1 and 200 is:\", total)\n"
      ],
      "metadata": {
        "colab": {
          "base_uri": "https://localhost:8080/"
        },
        "id": "p_vWGjvIR10o",
        "outputId": "e1083ca6-b932-4c17-ade7-aa3f9fbea8ca"
      },
      "execution_count": null,
      "outputs": [
        {
          "output_type": "stream",
          "name": "stdout",
          "text": [
            "The sum of even numbers between 1 and 200 is: 10100\n"
          ]
        }
      ]
    },
    {
      "cell_type": "code",
      "source": [
        "number=int(input(\"enter the number of which you want the table for \"))\n",
        "print(\"here is the table of \", number)\n",
        "i=1\n",
        "while i <= 10 :\n",
        "  print(number*i)\n",
        "  i += 1\n"
      ],
      "metadata": {
        "id": "xwKP6NOJ2h74",
        "colab": {
          "base_uri": "https://localhost:8080/"
        },
        "outputId": "0f7bdd3a-cdba-4d82-9faa-68acc5add62a"
      },
      "execution_count": null,
      "outputs": [
        {
          "output_type": "stream",
          "name": "stdout",
          "text": [
            "enter the number of which you want the table for 16\n",
            "here is the table of  16\n",
            "16\n",
            "32\n",
            "48\n",
            "64\n",
            "80\n",
            "96\n",
            "112\n",
            "128\n",
            "144\n",
            "160\n",
            "here is the table of \n"
          ]
        }
      ]
    },
    {
      "cell_type": "code",
      "source": [
        "l=[1,4,9,16,25,36,49,64,81,100]\n",
        "length_of_loop=len(l)\n",
        "print(length_of_loop)\n",
        "i=0\n",
        "while i < (len(l)):\n",
        "   print(l[i])\n",
        "   i += 1\n",
        "print(\"loop is over\")\n"
      ],
      "metadata": {
        "colab": {
          "base_uri": "https://localhost:8080/"
        },
        "id": "-BQRxO4DaNyA",
        "outputId": "66a0fa32-f23f-4ec4-c962-c0947ac429f5"
      },
      "execution_count": null,
      "outputs": [
        {
          "output_type": "stream",
          "name": "stdout",
          "text": [
            "10\n",
            "1\n",
            "4\n",
            "9\n",
            "16\n",
            "25\n",
            "36\n",
            "49\n",
            "64\n",
            "81\n",
            "100\n",
            "loop is over\n"
          ]
        }
      ]
    },
    {
      "cell_type": "code",
      "source": [
        "l= [1,4,9,16,25,36,49,64,81,100, 64, 9,16,36,49,100,49]\n",
        "x=int(input(\"enter the no you want to find in the list \"))\n",
        "i=0\n",
        "while i < (len(l)):\n",
        "  if (l[i] == x):\n",
        "    print((\"found at ind\", i))\n",
        "    break\n",
        "  else:\n",
        "      print(\"finding\")\n",
        "  i += 1\n"
      ],
      "metadata": {
        "colab": {
          "base_uri": "https://localhost:8080/"
        },
        "id": "r6TIHdYbd9E4",
        "outputId": "92243e2a-3311-4d2a-ab05-2175e5060ba0"
      },
      "execution_count": null,
      "outputs": [
        {
          "output_type": "stream",
          "name": "stdout",
          "text": [
            "enter the no you want to find in the list 49\n",
            "finding\n",
            "finding\n",
            "finding\n",
            "finding\n",
            "finding\n",
            "finding\n",
            "('found at ind', 6)\n"
          ]
        }
      ]
    },
    {
      "cell_type": "code",
      "source": [
        "n=int(input(\"enter the numbers of which you wnat the sum for \"))\n",
        "\n",
        "sum=0\n",
        "if i in range(1,n+1):\n",
        "  sum += i\n",
        "\n",
        "print(\"sum of\", n, \"natural numbers = \", sum)\n"
      ],
      "metadata": {
        "colab": {
          "base_uri": "https://localhost:8080/"
        },
        "id": "zF7Myl3YtRVt",
        "outputId": "e5bb9d0f-0524-4fc1-b6a8-30230fd8bd61"
      },
      "execution_count": null,
      "outputs": [
        {
          "output_type": "stream",
          "name": "stdout",
          "text": [
            "enter the numbers of which you wnat the sum for 10\n",
            "sum of 10 natural numbers =  0\n"
          ]
        }
      ]
    },
    {
      "cell_type": "code",
      "source": [
        "no1= int(input(\"enter the numbers of which you want the average for \"))\n",
        "no2= int(input(\"enter the numbers of which you want the average for \"))\n",
        "no_str = input()\n",
        "divisor=int(no_str)\n",
        "l=[int(x.strip()) for x in no_str.split(',')]\n",
        "print(no1+no2/divisor)"
      ],
      "metadata": {
        "id": "wVooYwzvXWS5",
        "colab": {
          "base_uri": "https://localhost:8080/"
        },
        "outputId": "1445f55d-6ae6-4322-891e-db0b966a68ab"
      },
      "execution_count": null,
      "outputs": [
        {
          "output_type": "stream",
          "name": "stdout",
          "text": [
            "enter the numbers of which you want the average for 7654\n",
            "enter the numbers of which you want the average for 74765\n",
            "9\n",
            "15961.222222222223\n"
          ]
        }
      ]
    },
    {
      "cell_type": "code",
      "source": [
        "# no1=float(input(\"enter your 1st no here \"))\n",
        "# no2=float(input(\"enter your 2nd no here \"))\n",
        "\n",
        "# sum= no1+no2\n",
        "# print(\"the sum of numbers you entered is \", sum)\n",
        "\n",
        "# a=float(input(\"enter the sid eof your square \"))\n",
        "# square= a**2ll\n",
        "# print(\"the area of your square is \", square)\n",
        "\n",
        "# a=float(input(\"enter your 1st no \"))\n",
        "# b=float(input(\"enter your 2nd no \"))\n",
        "\n",
        "# avg= (a+b)/2\n",
        "\n",
        "# print(\"here is the avg of the numbers you enterd \", avg)\n",
        "\n",
        "a=float(input(\"enter your 1st no \"))\n",
        "b=float(input(\"enter your 2nd no \"))\n",
        "\n",
        "if a >= b:\n",
        "   print(\"true\")\n",
        "else:\n",
        "  print(\"false\")\n",
        "\n"
      ],
      "metadata": {
        "colab": {
          "base_uri": "https://localhost:8080/"
        },
        "id": "_llSPkewsHfQ",
        "outputId": "59c2e354-702f-482d-9991-9699f39ef475"
      },
      "execution_count": null,
      "outputs": [
        {
          "output_type": "stream",
          "name": "stdout",
          "text": [
            "enter your 1st no 6346\n",
            "enter your 2nd no 636\n",
            "true\n"
          ]
        }
      ]
    },
    {
      "cell_type": "code",
      "source": [
        "a=input(\"enter your name \")\n",
        "print(len(a))\n",
        "print(a.count(\"i\"))\n"
      ],
      "metadata": {
        "colab": {
          "base_uri": "https://localhost:8080/"
        },
        "id": "b6admQza6HZG",
        "outputId": "022efd86-364f-441b-b03e-e38f8ce4c6ea"
      },
      "execution_count": null,
      "outputs": [
        {
          "output_type": "stream",
          "name": "stdout",
          "text": [
            "enter your name Ankit Raj Singh\n",
            "15\n",
            "2\n"
          ]
        }
      ]
    },
    {
      "cell_type": "code",
      "source": [
        "a=int(input(\"enter your marks \"))\n",
        "if a >= 90:\n",
        "  print(\"Grade A\")\n",
        "elif a >= 80:\n",
        "  print(\"Grade B\")\n",
        "elif a >= 70:\n",
        "  print(\"Grade c\")\n",
        "elif a >= 60:\n",
        "  print(\"Grade D\")\n",
        "else:\n",
        "  print(\"padhna bekar hai tera \")"
      ],
      "metadata": {
        "colab": {
          "base_uri": "https://localhost:8080/"
        },
        "id": "cm6XRGZp8HRl",
        "outputId": "31bdd1c3-c522-4a6a-a1f2-947552fe063e"
      },
      "execution_count": null,
      "outputs": [
        {
          "output_type": "stream",
          "name": "stdout",
          "text": [
            "enter your marks 99\n",
            "Grade A\n"
          ]
        }
      ]
    },
    {
      "cell_type": "code",
      "source": [
        "a=int(input(\"enter the no: \"))\n",
        "if (a % 2) == 0:\n",
        "    print(\"even no\")\n",
        "else:\n",
        "  print(\"odd no\")\n"
      ],
      "metadata": {
        "colab": {
          "base_uri": "https://localhost:8080/"
        },
        "id": "uu8TsDW-9qQM",
        "outputId": "dcb7bcc2-4d98-4a80-a60c-537bdc73115a"
      },
      "execution_count": null,
      "outputs": [
        {
          "output_type": "stream",
          "name": "stdout",
          "text": [
            "enter the no: 40\n",
            "even no\n"
          ]
        }
      ]
    },
    {
      "cell_type": "code",
      "source": [
        "a=int(input(\"enter the no: \"))\n",
        "if (a%7) == 0:\n",
        "  print(\"it is a multiple of 7\")\n",
        "else:\n",
        "  print(\"it is not a multiple of 7\")\n"
      ],
      "metadata": {
        "colab": {
          "base_uri": "https://localhost:8080/"
        },
        "id": "Q-82pvAm-jWs",
        "outputId": "a92acf3c-42e4-4c60-d6b9-6878aa521df3"
      },
      "execution_count": null,
      "outputs": [
        {
          "output_type": "stream",
          "name": "stdout",
          "text": [
            "enter the no: 150\n",
            "it is not a multiple of 7\n"
          ]
        }
      ]
    },
    {
      "cell_type": "code",
      "source": [
        "a= int(input(\"enter the no: \"))\n",
        "b=int(input(\"enter the no: \"))\n",
        "c=int(input(\"enter the no: \"))\n",
        "\n",
        "if a > b and a > c:\n",
        "   print(a,\"is the greatest\")\n",
        "elif b > a and b > c:\n",
        "   print(b, \"is the greatest\")\n",
        "else:\n",
        "  print(c, \"is the greatest\")"
      ],
      "metadata": {
        "colab": {
          "base_uri": "https://localhost:8080/"
        },
        "id": "_kBb4GkB-42k",
        "outputId": "69f79bce-b809-4f5b-dac0-deab58212a08"
      },
      "execution_count": null,
      "outputs": [
        {
          "output_type": "stream",
          "name": "stdout",
          "text": [
            "enter the no: 87\n",
            "enter the no: 4770\n",
            "enter the no: 897644\n",
            "897644 is the greatest\n"
          ]
        }
      ]
    },
    {
      "cell_type": "code",
      "source": [
        "# a= input(\"enter the name of your favorite movie \")\n",
        "# b= input(\"enter the name of your favorite movie \")\n",
        "# c=input(\"enter the name of your favorite movie \")\n",
        "\n",
        "list=[1,2,3]\n",
        "# list.append(a)\n",
        "# list.append(b)\n",
        "# list.append(c)\n",
        "\n",
        "print(list)\n",
        "\n",
        "list.reverse()\n",
        "print(list)\n",
        "print(list.reverse())\n",
        "a=list\n",
        "print(a)\n"
      ],
      "metadata": {
        "colab": {
          "base_uri": "https://localhost:8080/"
        },
        "id": "QxI9nANHFsrn",
        "outputId": "4a86b099-b35c-4dd8-f460-7dae55f54333"
      },
      "execution_count": null,
      "outputs": [
        {
          "output_type": "stream",
          "name": "stdout",
          "text": [
            "[1, 2, 3]\n",
            "[3, 2, 1]\n",
            "None\n",
            "[1, 2, 3]\n"
          ]
        }
      ]
    },
    {
      "cell_type": "code",
      "source": [
        "a=[1,2,3,2,1]\n",
        "a.copy()\n",
        "\n",
        "print(a)\n",
        "if a == list:\n",
        "  print(a, \"is the palandrome sequence\")\n",
        "else:\n",
        "  print(a, \"is not a palandrome sequence\")\n"
      ],
      "metadata": {
        "colab": {
          "base_uri": "https://localhost:8080/"
        },
        "id": "HOv9dgKDGloA",
        "outputId": "d8ea5120-258b-4eb1-ddc1-d2a58367af0e"
      },
      "execution_count": null,
      "outputs": [
        {
          "output_type": "stream",
          "name": "stdout",
          "text": [
            "[1, 2, 3, 2, 1]\n",
            "[1, 2, 3, 2, 1] is not a palandrome sequence\n"
          ]
        }
      ]
    },
    {
      "cell_type": "code",
      "source": [
        "a=input(\"enter the name of your favorite movie \")\n",
        "b=input(\"enter the name of your favorite movie \")\n",
        "c=input(\"enter the name of your favorite movie \")\n",
        "\n",
        "list=[a,b,c]\n",
        "print(list)\n",
        "\n",
        "p_list=[]\n",
        "p_list.append(a)\n",
        "p_list.append(b)\n",
        "p_list.append(c)\n",
        "print(p_list)\n",
        "\n",
        "\n"
      ],
      "metadata": {
        "colab": {
          "base_uri": "https://localhost:8080/"
        },
        "id": "D6lBpv5fXUMr",
        "outputId": "a143b93d-acce-4043-f878-d6e74637f313"
      },
      "execution_count": null,
      "outputs": [
        {
          "output_type": "stream",
          "name": "stdout",
          "text": [
            "enter the name of your favorite movie batman\n",
            "enter the name of your favorite movie tangled\n",
            "enter the name of your favorite movie kf2\n",
            "['batman', 'tangled', 'kf2']\n",
            "['batman', 'tangled', 'kf2']\n"
          ]
        }
      ]
    },
    {
      "cell_type": "code",
      "source": [
        "list=[1,2,3,2,1]\n",
        "copy_list= list.copy()\n",
        "copy_list.reverse()\n",
        "\n",
        "if list == copy_list:\n",
        "  print(list,\"is a palandrome\")\n",
        "else:\n",
        "  print(list, \"is not a palandrome\")"
      ],
      "metadata": {
        "colab": {
          "base_uri": "https://localhost:8080/"
        },
        "id": "rPcolNYuYScj",
        "outputId": "069acfe6-a435-4491-f00a-808de80d322a"
      },
      "execution_count": null,
      "outputs": [
        {
          "output_type": "stream",
          "name": "stdout",
          "text": [
            "[1, 2, 3, 2, 1] is a palandrome\n"
          ]
        }
      ]
    },
    {
      "cell_type": "code",
      "source": [
        "a=[\"C\",\"D\",\"A\",\"A\",\"B\",\"B\",\"A\"]\n",
        "a.count(\"A\")\n",
        "a.sort()\n",
        "\n",
        "print(a)\n"
      ],
      "metadata": {
        "colab": {
          "base_uri": "https://localhost:8080/"
        },
        "id": "dyyNJy26cq8d",
        "outputId": "d4b45279-83d5-4f4b-f7bf-c0c6ac0f4588"
      },
      "execution_count": null,
      "outputs": [
        {
          "output_type": "stream",
          "name": "stdout",
          "text": [
            "['A', 'A', 'A', 'B', 'B', 'C', 'D']\n"
          ]
        }
      ]
    },
    {
      "cell_type": "code",
      "source": [
        "dic={\n",
        "    \"table\" : [\"a piece of furniture\",\"list of facts & figures\"],\n",
        "    \"cat\": \"a small animal\"\n",
        "\n",
        "}\n",
        "print(dic)"
      ],
      "metadata": {
        "colab": {
          "base_uri": "https://localhost:8080/"
        },
        "id": "LgI2gX7VkYwp",
        "outputId": "4cfe5f20-a871-4139-892d-42b97215df1f"
      },
      "execution_count": null,
      "outputs": [
        {
          "output_type": "stream",
          "name": "stdout",
          "text": [
            "{'table': ['a piece of furniture', 'list of facts & figures'], 'cat': 'a small animal'}\n"
          ]
        }
      ]
    },
    {
      "cell_type": "code",
      "source": [
        "class_needed={\"python\",\"c++\",\"java\",\"python\",\"c++\", \"javascript\",\"c\",}\n",
        "len(class_needed)"
      ],
      "metadata": {
        "colab": {
          "base_uri": "https://localhost:8080/"
        },
        "id": "kUsVbh_Ulxlj",
        "outputId": "76af1e7c-db13-4425-caa5-f73db19fe111"
      },
      "execution_count": null,
      "outputs": [
        {
          "output_type": "execute_result",
          "data": {
            "text/plain": [
              "5"
            ]
          },
          "metadata": {},
          "execution_count": 22
        }
      ]
    },
    {
      "cell_type": "code",
      "source": [
        "# a=int(input(\"enter the number of which you want the table for \"))\n",
        "\n",
        "# i=a\n",
        "# while i <= a*10:\n",
        "#   print(i)\n",
        "#   i += a\n",
        "\n",
        "# i= 1\n",
        "# while i <= 10:\n",
        "#   print(a*i)\n",
        "#   i += 1\n",
        "\n",
        "# i= 1\n",
        "\n",
        "# while i <= 10:\n",
        "#   print (i*i)\n",
        "#   i += 1\n",
        "\n",
        "# numbers=[1,4,9,16,25,36,49,64,81,100]\n",
        "# idx=0\n",
        "# while idx < len(numbers):\n",
        "#   print(numbers[idx])\n",
        "#   idx += 1\n",
        "# print(\"loop is over\")\n",
        "\n",
        "nums=[1,4,9,16,25,36,49,64,81 ,100]\n",
        "\n",
        "x=int(input(\"enter the number you want to find from the list \"))\n",
        "\n",
        "i=0\n",
        "while i < len(nums):\n",
        "    if (nums[i] == x):\n",
        "      jjjj print(\"found at ind\", i)\n",
        "    i += 1\n",
        "\n",
        "\n",
        "\n"
      ],
      "metadata": {
        "id": "_S7Oge_tmzps",
        "colab": {
          "base_uri": "https://localhost:8080/"
        },
        "outputId": "fefd9552-8709-43d5-b50a-e82dc2405d80"
      },
      "execution_count": null,
      "outputs": [
        {
          "output_type": "stream",
          "name": "stdout",
          "text": [
            "enter the number you want to find from the list 1\n",
            "found at ind 0\n"
          ]
        }
      ]
    },
    {
      "cell_type": "code",
      "source": [
        "\n"
      ],
      "metadata": {
        "id": "pZoRUY0RI7Yp"
      },
      "execution_count": null,
      "outputs": []
    }
  ]
}