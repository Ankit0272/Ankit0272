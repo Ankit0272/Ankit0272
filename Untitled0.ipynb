{
  "nbformat": 4,
  "nbformat_minor": 0,
  "metadata": {
    "colab": {
      "provenance": [],
      "authorship_tag": "ABX9TyOp/tPY2DAjpr9pMBPU3+9U",
      "include_colab_link": true
    },
    "kernelspec": {
      "name": "python3",
      "display_name": "Python 3"
    },
    "language_info": {
      "name": "python"
    }
  },
  "cells": [
    {
      "cell_type": "markdown",
      "metadata": {
        "id": "view-in-github",
        "colab_type": "text"
      },
      "source": [
        "<a href=\"https://colab.research.google.com/github/Ankit0272/Ankit0272/blob/main/Untitled0.ipynb\" target=\"_parent\"><img src=\"https://colab.research.google.com/assets/colab-badge.svg\" alt=\"Open In Colab\"/></a>"
      ]
    },
    {
      "cell_type": "code",
      "source": [
        "name=input(\"what is your name \")\n",
        "print(\"hello,\", name,\"nice to meet you\")\n",
        "ques=input(\"may i ask you some questions \")\n",
        "if ques == str(\"yes\"):\n",
        "  print(\"thanks for your cooperation\")\n",
        "else:\n",
        "  print(\"see yoou soon\")\n",
        "ques1=input(\"what is your hobby \")\n",
        "print(\"you have a great hobby\",name, ques1,\"is a great thing to do\")\n",
        "print(\"ok now one last question\")\n",
        "ques2=int(input(\"how many hours you spend on your hobby in a week \"))\n",
        "if ques2 >= 24:\n",
        "   print(\"amazing,you are really passionate about your hobby\")\n",
        "elif ques2 >= 18 :\n",
        "   print(\"that's awesome, you like to spend\",ques)\n",
        "elif ques2 >= 12:\n",
        "   print(\"that's good, you take care of your hobby\")\n",
        "else:\n",
        "   print(\"you must give some time to\",ques1,)\n",
        "ques3=input(\"which is your favorate color \")\n",
        "print(\"good choice\", ques3,\"is a good color choice \")\n",
        "ques4=int(input(\"what is your current age \"))\n",
        "print(\"you are,\",ques4 ,\"years old \")\n",
        "\n",
        "print(\"considering all this, i think i got to know something about you\")\n",
        "ques5=str(input(\"would you like to know what i know about you? \"))\n",
        "if ques5 == str(\"yes\"):\n",
        "   print(\"your name is\", name,\"your age is\", ques4, \"your favorate hobby is \", ques1, \"your favorate color is\", ques3)\n",
        "else:\n",
        "   print(\"see you soon\")\n",
        "\n",
        "\n",
        "\n"
      ],
      "metadata": {
        "id": "SDz_A6c6VAVe",
        "colab": {
          "base_uri": "https://localhost:8080/"
        },
        "outputId": "87002d0d-b990-4e6f-c332-e7a98d8edd44"
      },
      "execution_count": null,
      "outputs": [
        {
          "output_type": "stream",
          "name": "stdout",
          "text": [
            "what is your name Ankit Raj SIngh\n",
            "hello, Ankit Raj SIngh nice to meet you\n",
            "may i ask you some questions yes\n",
            "thanks for your cooperation\n",
            "what is your hobby Plying Cricket\n",
            "you have a great hobby Ankit Raj SIngh Plying Cricket is a great thing to do\n",
            "ok now one last question\n",
            "how many hours you spend on your hobby in a week 24\n",
            "amazing,you are really passionate about your hobby\n",
            "which is your favorate color Red\n",
            "good choice Red is a good color choice \n",
            "what is your current age 19\n",
            "you are, 19 years old \n",
            "considering all this, i think i got to know something about you\n",
            "would you like to know what i know about you? yes\n",
            "your name is Ankit Raj SIngh your age is 19 your favorate hobby is  Plying Cricket your favorate color is Red\n"
          ]
        }
      ]
    },
    {
      "cell_type": "code",
      "source": [
        "name=input(\"what is your name \")\n",
        "print(\"hello,\", name,\"nice to meet you\")\n",
        "age=int(input(\"how old are you Mr \"+ name ))\n",
        "print(\"you are,\", name, \"and you will be\", age+1, \"next year\")"
      ],
      "metadata": {
        "colab": {
          "base_uri": "https://localhost:8080/"
        },
        "id": "idwzovQRGuco",
        "outputId": "1f7483f7-2cb6-4938-e954-eb0ea5c64087"
      },
      "execution_count": null,
      "outputs": [
        {
          "output_type": "stream",
          "name": "stdout",
          "text": [
            "what is your name Ankit Raj Singh\n",
            "hello, Ankit Raj Singh nice to meet you\n",
            "how old are you Mr Ankit Raj Singh19\n",
            "you are, Ankit Raj Singh and you will be 20 next year\n"
          ]
        }
      ]
    },
    {
      "cell_type": "code",
      "source": [
        "num1=float(input(\"enter your 1st no \"))\n",
        "num2=float(input(\"enter your 2nd no \"))\n",
        "sum= num1+num2\n",
        "difference= num1\n",
        "product= num1*num2\n",
        "quotient= num1/num2\n",
        "print(\"sum=\", sum)\n",
        "print(\"difference=\", difference)\n",
        "print(\"product=\", product)\n",
        "print(\"quotient=\", quotient)\n",
        "if num1 > num2:\n",
        "  print(num1,\" is greater than\", num2)\n",
        "else:\n",
        "  print(num2,\" is greater than\", num1)"
      ],
      "metadata": {
        "colab": {
          "base_uri": "https://localhost:8080/"
        },
        "id": "92nclPQ5JHGo",
        "outputId": "0f2e1da9-9dde-44eb-fa23-52488e92add2"
      },
      "execution_count": null,
      "outputs": [
        {
          "output_type": "stream",
          "name": "stdout",
          "text": [
            "enter your 1st no 8374783746384348468266\n",
            "enter your 2nd no 7353525452547462378435\n",
            "sum= 1.572830919893181e+22\n",
            "difference= 8.374783746384349e+21\n",
            "product= 6.158418543861809e+43\n",
            "quotient= 1.1388800923349078\n",
            "8.374783746384349e+21  is greater than 7.353525452547462e+21\n"
          ]
        }
      ]
    },
    {
      "cell_type": "code",
      "source": [
        "name=input(\"what is your name \")\n",
        "no=int(input(\"what is your favorate no \"))\n",
        "print(\"your name is \", name, \"and 98 times your favorate no is \", 98*no)"
      ],
      "metadata": {
        "colab": {
          "base_uri": "https://localhost:8080/"
        },
        "id": "a6rC5knENm5w",
        "outputId": "ce7210a6-b086-49e6-dc22-dd9d0f778f81"
      },
      "execution_count": null,
      "outputs": [
        {
          "output_type": "stream",
          "name": "stdout",
          "text": [
            "what is your name Ankit Raj Singh\n",
            "what is your favorate no 7\n",
            "your name is  Ankit Raj Singh and 98 times your favorate no is  686\n"
          ]
        }
      ]
    },
    {
      "cell_type": "code",
      "source": [
        "age=int(input(\"how old are you \"))\n",
        "if age <= 13:\n",
        "  print(\"you are a child\")\n",
        "elif age <= 20:\n",
        "  print(\"you are a teenager \")\n",
        "elif age <= 60:\n",
        "  print(\"you are an adult \")\n",
        "else:\n",
        "  print(\"you are a senior citizen \")\n"
      ],
      "metadata": {
        "colab": {
          "base_uri": "https://localhost:8080/"
        },
        "id": "ea5FAQjfWCta",
        "outputId": "cb3180cb-e8a6-4ba3-d6c4-278c6315c43a"
      },
      "execution_count": 61,
      "outputs": [
        {
          "output_type": "stream",
          "name": "stdout",
          "text": [
            "how old are you 34\n",
            "you are an adult \n"
          ]
        }
      ]
    },
    {
      "cell_type": "code",
      "source": [
        "num1=float(input(\"what is your 1st number \"))\n",
        "num2=float(input(\"what is your 2nd number \"))\n",
        "\n",
        "if num1 > num2:\n",
        "  print(num1, \"is greater than\", num2)\n",
        "elif num1 == num2:\n",
        "  print(num1, \"is equal to\", num2)\n",
        "else:\n",
        "  print(num1, \"is smaller than\", num2)"
      ],
      "metadata": {
        "colab": {
          "base_uri": "https://localhost:8080/"
        },
        "id": "9LZEGFTyXTkR",
        "outputId": "ab65d362-3a9e-4bdd-9643-98f5e161c174"
      },
      "execution_count": 64,
      "outputs": [
        {
          "output_type": "stream",
          "name": "stdout",
          "text": [
            "what is your 1st number 99\n",
            "what is your 2nd number 99\n",
            "99.0 is equal to 99.0\n"
          ]
        }
      ]
    },
    {
      "cell_type": "code",
      "source": [
        "num1=float(input(\"enter the 1st no \"))\n",
        "num2=float(input(\"enter the 2nd no \"))\n",
        "print(\"the numbers you entered are as follow :-\", num1, num2)\n",
        "ques1=str(input(\"which operation you want to perform (+,-,*,/)\" ))\n",
        "if ques1 == \"+\":\n",
        "  print(\"sum=\", num1+num2 )\n",
        "elif ques1 == \"-\":\n",
        "  print(\"difference=\", num1-num2 )\n",
        "elif ques1 == \"*\":\n",
        "  print(\"product=\", num1*num2 )\n",
        "elif ques1 == \"/\":\n",
        "  print(\"quotien\", num1/num2 )\n",
        "else:\n",
        "   print(\"check your input\")\n",
        "\n"
      ],
      "metadata": {
        "colab": {
          "base_uri": "https://localhost:8080/"
        },
        "id": "Hq1tf9kXZA15",
        "outputId": "a4823211-0fa1-463e-9237-340db1b499a9"
      },
      "execution_count": 78,
      "outputs": [
        {
          "output_type": "stream",
          "name": "stdout",
          "text": [
            "enter the 1st no 86644368989345688098989\n",
            "enter the 2nd no 878565545443365576878777\n",
            "the numbers you entered are as follow :- 8.664436898934569e+22 8.785655454433655e+23\n",
            "which operation you want to perform (+,-,*,/)*\n",
            "product= 7.612275730072072e+46\n"
          ]
        }
      ]
    }
  ]
}