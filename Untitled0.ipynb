{
  "nbformat": 4,
  "nbformat_minor": 0,
  "metadata": {
    "colab": {
      "provenance": [],
      "authorship_tag": "ABX9TyMUJFjGsGrsz2/iCaA+flO8",
      "include_colab_link": true
    },
    "kernelspec": {
      "name": "python3",
      "display_name": "Python 3"
    },
    "language_info": {
      "name": "python"
    }
  },
  "cells": [
    {
      "cell_type": "markdown",
      "metadata": {
        "id": "view-in-github",
        "colab_type": "text"
      },
      "source": [
        "<a href=\"https://colab.research.google.com/github/Ankit0272/Ankit0272/blob/main/Untitled0.ipynb\" target=\"_parent\"><img src=\"https://colab.research.google.com/assets/colab-badge.svg\" alt=\"Open In Colab\"/></a>"
      ]
    },
    {
      "cell_type": "code",
      "source": [
        "a=int(input(\"enter your marks here \"))\n",
        "del print\n",
        "\n",
        "if a >= 90:\n",
        "  print(\"A+\")\n",
        "elif a >= 80:\n",
        "  print(\"A\")\n",
        "elif a >= 70:\n",
        "  print(\"b\")\n",
        "elif a >= 60:\n",
        "  print(\"c\")\n",
        "else :\n",
        "  print(\"d\")\n",
        "\n",
        "print(\"your marks is \", a ,\"All The Best for future\")\n",
        "\n",
        "\n"
      ],
      "metadata": {
        "colab": {
          "base_uri": "https://localhost:8080/"
        },
        "id": "ec4ynCjMxgzX",
        "outputId": "ad27db39-96de-4263-c8dd-bae4d8247847"
      },
      "execution_count": 27,
      "outputs": [
        {
          "output_type": "stream",
          "name": "stdout",
          "text": [
            "enter your marks here 98\n",
            "A+\n",
            "your marks is  98 All The Best for future\n"
          ]
        }
      ]
    },
    {
      "cell_type": "code",
      "source": [
        "# a=int(input(\"enter a no \"))\n",
        "\n",
        "# if a % 2 == 0:\n",
        "#   print(\"even no\")\n",
        "# else:\n",
        "#   print(\"odd no\")\n",
        "a=int(input(\"enter the 1st no \"))\n",
        "b=int(input(\"enter the 2nd no \"))\n",
        "c=int(input(\"enter the 3rd no \"))\n",
        "\n",
        "print(\"the numbers you entered are\", a , b , \"and\", c)\n",
        "\n",
        "if a > b and a > c :\n",
        "  print(a,\"is greatest\")\n",
        "elif b > c and b>a:\n",
        "  print(b,\"is greatest\")\n",
        "else:\n",
        "  print(c,\"is greatest\")\n",
        "\n",
        "# a=int(input(\"enter the no \"))\n",
        "\n",
        "# if a % 7 == 0:\n",
        "#   print(a,\"is divisible by 7 \")\n",
        "\n",
        "# else:\n",
        "#   print(a,\"is not divisible by 7 \")"
      ],
      "metadata": {
        "colab": {
          "base_uri": "https://localhost:8080/"
        },
        "id": "QMpXZ70n2_pQ",
        "outputId": "2611d869-1442-4cba-c373-24de4fed9bd6"
      },
      "execution_count": 54,
      "outputs": [
        {
          "output_type": "stream",
          "name": "stdout",
          "text": [
            "enter the 1st no 84\n",
            "enter the 2nd no 94\n",
            "enter the 3rd no 34\n",
            "the numbers you entered are 84 94 and 34\n",
            "94 is greatest\n"
          ]
        }
      ]
    }
  ]
}