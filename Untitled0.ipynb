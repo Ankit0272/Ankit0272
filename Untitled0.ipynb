{
  "nbformat": 4,
  "nbformat_minor": 0,
  "metadata": {
    "colab": {
      "provenance": [],
      "authorship_tag": "ABX9TyM5dP1gGKBMcTdr2mUN4YDz",
      "include_colab_link": true
    },
    "kernelspec": {
      "name": "python3",
      "display_name": "Python 3"
    },
    "language_info": {
      "name": "python"
    }
  },
  "cells": [
    {
      "cell_type": "markdown",
      "metadata": {
        "id": "view-in-github",
        "colab_type": "text"
      },
      "source": [
        "<a href=\"https://colab.research.google.com/github/Ankit0272/Ankit0272/blob/main/Untitled0.ipynb\" target=\"_parent\"><img src=\"https://colab.research.google.com/assets/colab-badge.svg\" alt=\"Open In Colab\"/></a>"
      ]
    },
    {
      "cell_type": "code",
      "source": [
        "b= \"sultan\"\n",
        "a=input(\"enter your password here \")\n",
        "while a != b:\n",
        "  print(\"you entred a wrong password \")\n",
        "  a=input(\"enter your password h\")\n",
        "\n",
        "print(\"booyah, you have the access\")"
      ],
      "metadata": {
        "colab": {
          "base_uri": "https://localhost:8080/"
        },
        "id": "hCc6xAtup5El",
        "outputId": "0cd51da4-e1eb-4077-de2e-cdcfd30a72e1"
      },
      "execution_count": null,
      "outputs": [
        {
          "output_type": "stream",
          "name": "stdout",
          "text": [
            "enter your password here dhsahdh\n",
            "you entred a wrong password \n",
            "enter your password dhsahhas]\n",
            "you entred a wrong password \n",
            "enter your password jssdjs\n",
            "you entred a wrong password \n",
            "enter your password hhh\n",
            "you entred a wrong password \n",
            "enter your password hdhf\n",
            "you entred a wrong password \n",
            "enter your password hdfh\n",
            "you entred a wrong password \n",
            "enter your password sultan\n",
            "booyah, you have the access\n"
          ]
        }
      ]
    },
    {
      "cell_type": "code",
      "source": [
        "timer=int(input(\"enter timer\"))\n",
        "while timer >= 0:\n",
        "  print(timer)\n",
        "  timer -=1\n",
        "print(\"timer is over\")"
      ],
      "metadata": {
        "colab": {
          "base_uri": "https://localhost:8080/"
        },
        "id": "kvxGcWG1rcyh",
        "outputId": "1f3ab5bd-edcb-49d9-c127-a29f30719dbb"
      },
      "execution_count": null,
      "outputs": [
        {
          "output_type": "stream",
          "name": "stdout",
          "text": [
            "enter timer3\n",
            "3\n",
            "2\n",
            "1\n",
            "0\n",
            "timer is over\n"
          ]
        }
      ]
    },
    {
      "cell_type": "code",
      "source": [
        "integer= [1,2,2,4,2,6,7,8,4,6,8,4,3,2,4,6,8,7,5]\n",
        "print(type(integer))\n",
        "print(\"numbers \", integer)\n",
        "\n",
        "print(\"length of the integer list\", len(integer))\n",
        "print(integer[5])\n",
        "print(integer[0])\n",
        "print(integer[8])\n",
        "print(integer[1])\n",
        "print(integer[7])\n",
        "print(integer[11])\n",
        "\n",
        "#seeing the isting method to creaate backup listing metod\n",
        "print(integer[-1])\n",
        "print(integer[-9])\n",
        "print(integer[-3])\n",
        "print(integer[0])\n",
        "print(integer[5])\n",
        "\n",
        "#slicing indexing\n",
        "print(integer[0:10])\n",
        "print(integer[9:11])\n",
        "print(integer[:19])\n",
        "print(integer[17:])\n",
        "print(integer[0:])\n",
        "print(integer[1::9])\n",
        "print(integer[1::3])"
      ],
      "metadata": {
        "colab": {
          "base_uri": "https://localhost:8080/"
        },
        "id": "4aIz8lhzsD0a",
        "outputId": "1ef2b261-f504-4aec-ff11-29aa5ce2c878"
      },
      "execution_count": null,
      "outputs": [
        {
          "output_type": "stream",
          "name": "stdout",
          "text": [
            "<class 'list'>\n",
            "numbers  [1, 2, 2, 4, 2, 6, 7, 8, 4, 6, 8, 4, 3, 2, 4, 6, 8, 7, 5]\n",
            "length of the integer list 19\n",
            "6\n",
            "1\n",
            "4\n",
            "2\n",
            "8\n",
            "4\n",
            "5\n",
            "8\n",
            "8\n",
            "1\n",
            "6\n",
            "[1, 2, 2, 4, 2, 6, 7, 8, 4, 6]\n",
            "[6, 8]\n",
            "[1, 2, 2, 4, 2, 6, 7, 8, 4, 6, 8, 4, 3, 2, 4, 6, 8, 7, 5]\n",
            "[7, 5]\n",
            "[1, 2, 2, 4, 2, 6, 7, 8, 4, 6, 8, 4, 3, 2, 4, 6, 8, 7, 5]\n",
            "[2, 8]\n",
            "[2, 2, 8, 8, 2, 8]\n"
          ]
        }
      ]
    },
    {
      "cell_type": "code",
      "source": [
        "integer= [0,1,2,3,4,5,6,7,8,9,10,11,12,13,14,15,16,17,18,19,20]\n",
        "print(len(integer))\n",
        "print(type(integer))\n",
        "print(integer[0])\n",
        "print(integer[20])\n",
        "print(integer[-1])\n",
        "print(integer[3:10])\n",
        "print(integer[7:19])\n",
        "print(integer[::1])\n",
        "print(integer[::2])\n",
        "print(integer[::3])\n",
        "print(integer[::4])\n",
        "print(integer[1::2])"
      ],
      "metadata": {
        "colab": {
          "base_uri": "https://localhost:8080/"
        },
        "id": "wevbH8cq0K-v",
        "outputId": "dcc65c9c-0118-4361-9f77-ebf3a5be1c95"
      },
      "execution_count": null,
      "outputs": [
        {
          "output_type": "stream",
          "name": "stdout",
          "text": [
            "21\n",
            "<class 'list'>\n",
            "0\n",
            "20\n",
            "20\n",
            "[3, 4, 5, 6, 7, 8, 9]\n",
            "[7, 8, 9, 10, 11, 12, 13, 14, 15, 16, 17, 18]\n",
            "[0, 1, 2, 3, 4, 5, 6, 7, 8, 9, 10, 11, 12, 13, 14, 15, 16, 17, 18, 19, 20]\n",
            "[0, 2, 4, 6, 8, 10, 12, 14, 16, 18, 20]\n",
            "[0, 3, 6, 9, 12, 15, 18]\n",
            "[0, 4, 8, 12, 16, 20]\n",
            "[1, 3, 5, 7, 9, 11, 13, 15, 17, 19]\n"
          ]
        }
      ]
    },
    {
      "cell_type": "code",
      "source": [
        "fruit= [\"apple\",\"banana\",\"grapes\"]\n",
        "fruit.insert(1, \"guava\")"
      ],
      "metadata": {
        "id": "KOI1tG3M2RMn"
      },
      "execution_count": null,
      "outputs": []
    },
    {
      "cell_type": "code",
      "source": [
        "fruit= [\"apple\",\"banana\",\"grapes\"]\n",
        "a= fruit.index(\"grapes\")\n",
        "print(a)\n"
      ],
      "metadata": {
        "colab": {
          "base_uri": "https://localhost:8080/"
        },
        "id": "ZKcJKrai6Fxf",
        "outputId": "0089b13a-1d68-41f7-f366-35898183ddf5"
      },
      "execution_count": null,
      "outputs": [
        {
          "output_type": "stream",
          "name": "stdout",
          "text": [
            "2\n"
          ]
        }
      ]
    },
    {
      "cell_type": "code",
      "source": [
        "fruit=[\"apple\",\"banana\",\"grapes\"]\n",
        "copy_list= fruit.copy()\n",
        "print(copy_list)\n",
        "\n",
        "fruit.append(\"guava\")\n",
        "print(fruit)\n",
        "\n",
        "copy_list.append(\"orange\")\n",
        "print(copy_list)\n",
        "\n",
        "fruit.insert(0,\"pineapple\")\n",
        "print(fruit)\n",
        "\n",
        "copy=fruit.copy()\n",
        "print(copy)\n",
        "\n",
        "copy.insert(1,\"kiwi\")\n",
        "print(copy)\n",
        "\n",
        "last_fruit=copy.pop()\n",
        "print(last_fruit)\n",
        "\n",
        "print(copy[0])\n",
        "print(copy[-1])\n",
        "print(copy[-4])\n",
        "print(type(copy))\n",
        "print(len(copy))\n",
        "print(\"apple\" in copy)\n",
        "print(copy[1:4])\n",
        "print(copy[::1])\n",
        "\n",
        "banana=copy.index(\"banana\")\n",
        "print(banana)\n",
        "\n",
        "pear=copy.insert(4,\"pear\")\n",
        "print(copy)\n",
        "\n",
        "remove_pear=copy.remove(\"pear\")\n",
        "print(copy)\n",
        "\n",
        "\n",
        "grapes=copy.index(\"grapes\")\n",
        "print(grapes)\n",
        "\n",
        "count=copy.count(\"kiwi\")\n",
        "print(count)\n",
        "\n",
        "sort=copy.sort()\n",
        "print(sort)\n",
        "\n",
        "reverse=copy.reverse()\n",
        "print(reverse)\n",
        "\n",
        "print(copy)\n",
        "\n",
        "counting=[1,2,3,4,5,6,7,8,9,10]\n",
        "counting.append(11)\n",
        "print(counting)"
      ],
      "metadata": {
        "colab": {
          "base_uri": "https://localhost:8080/"
        },
        "id": "7sukpScR8CD7",
        "outputId": "c2d76bdd-43e8-4ee7-faea-f590f73e295b"
      },
      "execution_count": null,
      "outputs": [
        {
          "output_type": "stream",
          "name": "stdout",
          "text": [
            "['apple', 'banana', 'grapes']\n",
            "['apple', 'banana', 'grapes', 'guava']\n",
            "['apple', 'banana', 'grapes', 'orange']\n",
            "['pineapple', 'apple', 'banana', 'grapes', 'guava']\n",
            "['pineapple', 'apple', 'banana', 'grapes', 'guava']\n",
            "['pineapple', 'kiwi', 'apple', 'banana', 'grapes', 'guava']\n",
            "guava\n",
            "pineapple\n",
            "grapes\n",
            "kiwi\n",
            "<class 'list'>\n",
            "5\n",
            "True\n",
            "['kiwi', 'apple', 'banana']\n",
            "['pineapple', 'kiwi', 'apple', 'banana', 'grapes']\n",
            "3\n",
            "['pineapple', 'kiwi', 'apple', 'banana', 'pear', 'grapes']\n",
            "['pineapple', 'kiwi', 'apple', 'banana', 'grapes']\n",
            "4\n",
            "1\n",
            "None\n",
            "None\n",
            "['pineapple', 'kiwi', 'grapes', 'banana', 'apple']\n",
            "[1, 2, 3, 4, 5, 6, 7, 8, 9, 10, 11]\n"
          ]
        }
      ]
    },
    {
      "cell_type": "code",
      "source": [
        "counting=[0,1,2,3,4,5,6,7,8,9,10]\n",
        "for nos in counting:\n",
        "  print(nos)\n",
        "  if nos == 9:\n",
        "    break\n",
        "print(\"loop is over\")\n"
      ],
      "metadata": {
        "colab": {
          "base_uri": "https://localhost:8080/"
        },
        "id": "_zjKVZmKImc6",
        "outputId": "f2f33f50-a1f0-483c-cc27-65555139fc58"
      },
      "execution_count": null,
      "outputs": [
        {
          "output_type": "stream",
          "name": "stdout",
          "text": [
            "0\n",
            "1\n",
            "2\n",
            "3\n",
            "4\n",
            "5\n",
            "6\n",
            "7\n",
            "8\n",
            "9\n",
            "loop is over\n"
          ]
        }
      ]
    },
    {
      "cell_type": "code",
      "source": [
        "total=0\n",
        "for nos in range(1, 101):\n",
        "  if nos % 2 == 0:\n",
        "    total += nos\n",
        "\n",
        "\n",
        "print(\"sum of all even numbers till\", total)"
      ],
      "metadata": {
        "colab": {
          "base_uri": "https://localhost:8080/"
        },
        "id": "HaN4QKbvKD8I",
        "outputId": "5088ace8-4172-4518-b796-52133be2cfc5"
      },
      "execution_count": null,
      "outputs": [
        {
          "output_type": "stream",
          "name": "stdout",
          "text": [
            "sum of all even numbers till 2550\n"
          ]
        }
      ]
    },
    {
      "cell_type": "code",
      "source": [
        "\n",
        "number=int(input(\"enter your no here \"))\n",
        "\n",
        "print(\"multiplication table for\", number)\n",
        "for i in range (1,11):\n",
        "   print(number, \"x\", i, \"=\", number*i)"
      ],
      "metadata": {
        "colab": {
          "base_uri": "https://localhost:8080/"
        },
        "id": "FlcsLn4uMLxl",
        "outputId": "5a3db4c0-cba7-4967-f7a8-6ce31ca4dde3"
      },
      "execution_count": null,
      "outputs": [
        {
          "output_type": "stream",
          "name": "stdout",
          "text": [
            "enter your no here 78\n",
            "multiplication table for 78\n",
            "78 x 1 = 78\n",
            "78 x 2 = 156\n",
            "78 x 3 = 234\n",
            "78 x 4 = 312\n",
            "78 x 5 = 390\n",
            "78 x 6 = 468\n",
            "78 x 7 = 546\n",
            "78 x 8 = 624\n",
            "78 x 9 = 702\n",
            "78 x 10 = 780\n"
          ]
        }
      ]
    },
    {
      "cell_type": "code",
      "source": [
        "total = 0\n",
        "\n",
        "for number in range(1, 201):\n",
        "    if number % 2 == 0:\n",
        "        total += number\n",
        "\n",
        "print(\"The sum of even numbers between 1 and 200 is:\", total)\n"
      ],
      "metadata": {
        "colab": {
          "base_uri": "https://localhost:8080/"
        },
        "id": "p_vWGjvIR10o",
        "outputId": "e1083ca6-b932-4c17-ade7-aa3f9fbea8ca"
      },
      "execution_count": null,
      "outputs": [
        {
          "output_type": "stream",
          "name": "stdout",
          "text": [
            "The sum of even numbers between 1 and 200 is: 10100\n"
          ]
        }
      ]
    },
    {
      "cell_type": "code",
      "source": [],
      "metadata": {
        "id": "xwKP6NOJ2h74"
      },
      "execution_count": null,
      "outputs": []
    }
  ]
}